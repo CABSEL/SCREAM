{
 "cells": [
  {
   "cell_type": "code",
   "execution_count": 1,
   "id": "b828cdc2-0fe2-49ab-b4c7-02bca23e451d",
   "metadata": {},
   "outputs": [
    {
     "name": "stderr",
     "output_type": "stream",
     "text": [
      "2025-08-14 00:52:33.877112: E external/local_xla/xla/stream_executor/cuda/cuda_fft.cc:467] Unable to register cuFFT factory: Attempting to register factory for plugin cuFFT when one has already been registered\n",
      "WARNING: All log messages before absl::InitializeLog() is called are written to STDERR\n",
      "E0000 00:00:1755147153.892660  332810 cuda_dnn.cc:8579] Unable to register cuDNN factory: Attempting to register factory for plugin cuDNN when one has already been registered\n",
      "E0000 00:00:1755147153.897396  332810 cuda_blas.cc:1407] Unable to register cuBLAS factory: Attempting to register factory for plugin cuBLAS when one has already been registered\n",
      "W0000 00:00:1755147153.909569  332810 computation_placer.cc:177] computation placer already registered. Please check linkage and avoid linking the same target more than once.\n",
      "W0000 00:00:1755147153.909583  332810 computation_placer.cc:177] computation placer already registered. Please check linkage and avoid linking the same target more than once.\n",
      "W0000 00:00:1755147153.909586  332810 computation_placer.cc:177] computation placer already registered. Please check linkage and avoid linking the same target more than once.\n",
      "W0000 00:00:1755147153.909588  332810 computation_placer.cc:177] computation placer already registered. Please check linkage and avoid linking the same target more than once.\n",
      "2025-08-14 00:52:33.913470: I tensorflow/core/platform/cpu_feature_guard.cc:210] This TensorFlow binary is optimized to use available CPU instructions in performance-critical operations.\n",
      "To enable the following instructions: AVX2 FMA, in other operations, rebuild TensorFlow with the appropriate compiler flags.\n"
     ]
    }
   ],
   "source": [
    "import os\n",
    "import sys\n",
    "import datetime\n",
    "import numpy as np\n",
    "import pandas as pd\n",
    "\n",
    "import matplotlib.pyplot as plt\n",
    "import seaborn as sns\n",
    "import muon as mu\n",
    "import mudata as md\n",
    "import scanpy as sc\n",
    "from scipy.io import mmread"
   ]
  },
  {
   "cell_type": "code",
   "execution_count": 2,
   "id": "107bd197-66ac-4fce-b754-07a81103e4e9",
   "metadata": {},
   "outputs": [],
   "source": [
    "mainDir = '/home/cegrad/shriramp/SCREAM_wf'\n",
    "inputDir = os.path.join(mainDir, 'inputfiles')\n",
    "rawDir = os.path.join(inputDir, 'raw')\n",
    "processedDir = os.path.join(inputDir, 'processed')\n",
    "resultsDir = os.path.join(mainDir, 'results')"
   ]
  },
  {
   "cell_type": "code",
   "execution_count": 3,
   "id": "4d1c3cbb-d8b8-4cf7-85ee-a8780493c183",
   "metadata": {},
   "outputs": [],
   "source": [
    "meta = pd.read_csv(os.path.join(rawDir, 'processed', 'pbmc_multiomic_metadata.csv'), index_col=0)\n",
    "lsi = pd.read_csv(os.path.join(rawDir, 'processed', 'pbmc_multiomic_lsi.csv'), index_col=0)\n",
    "pca = pd.read_csv(os.path.join(rawDir, 'processed', 'pbmc_multiomic_pca.csv'), index_col=0)\n",
    "var_feats = pd.read_csv(os.path.join(rawDir, 'processed', 'pbmc_multiomic_varfeats.csv'), index_col=0)"
   ]
  },
  {
   "cell_type": "code",
   "execution_count": 4,
   "id": "bd64017d-638e-4817-b7f4-232fbb33a8ed",
   "metadata": {},
   "outputs": [],
   "source": [
    "X_atac_counts = mmread(os.path.join(rawDir, 'processed', 'pbmc_multiomic_ataccounts.mtx')).tocsc()\n",
    "X_atac_lsi = mmread(os.path.join(rawDir, 'processed', 'pbmc_multiomic_atacdata.mtx')).tocsc()\n",
    "var_names = pd.read_csv(os.path.join(rawDir, 'processed', 'pbmc_multiomic_Seurat_peaks.tsv'), header=None)[0].values\n",
    "\n",
    "adata_atac = sc.AnnData(X_atac_counts.T)\n",
    "adata_atac.layers['raw'] = adata_atac.X.copy()\n",
    "adata_atac.layers['lsi'] = X_atac_lsi.T\n",
    "adata_atac.var_names = var_names\n",
    "\n",
    "# adata_atac.obs = atac_meta.copy()\n",
    "adata_atac.var['modality'] = 'peaks'\n",
    "adata_atac.obs = meta.copy()\n",
    "\n",
    "adata_atac.obsm['lsi'] = lsi.values.copy()"
   ]
  },
  {
   "cell_type": "code",
   "execution_count": 5,
   "id": "4c1c318a-a269-4cbc-b628-cb97ca262a14",
   "metadata": {},
   "outputs": [],
   "source": [
    "X_rna_counts = mmread(os.path.join(rawDir, 'processed', 'pbmc_multiomic_rnacounts.mtx')).tocsc()\n",
    "X_rna_data = mmread(os.path.join(rawDir, 'processed', 'pbmc_multiomic_rnasct.mtx')).tocsc()\n",
    "var_names = pd.read_csv(os.path.join(rawDir, 'processed', 'pbmc_multiomic_Seurat_genes.tsv'), header=None)[0].values\n",
    "\n",
    "adata_rna = sc.AnnData(X_rna_counts.T)\n",
    "adata_rna.layers['raw'] = adata_rna.X.copy()\n",
    "adata_rna.layers['sct'] = X_rna_data.T\n",
    "adata_rna.var_names = var_names\n",
    "\n",
    "# adata_atac.obs = atac_meta.copy()\n",
    "adata_rna.var['modality'] = 'genes'\n",
    "adata_rna.obs = meta.copy()\n",
    "\n",
    "adata_rna.obsm['pca'] = pca.values.copy()\n",
    "adata_rna.uns['varfeats'] = var_feats['x'].tolist()"
   ]
  },
  {
   "cell_type": "code",
   "execution_count": 7,
   "id": "f4e9cc35-2c3f-4d56-be30-f7bf40da9945",
   "metadata": {},
   "outputs": [
    {
     "name": "stderr",
     "output_type": "stream",
     "text": [
      "/home/cegrad/shriramp/miniconda3/envs/Shri/lib/python3.12/site-packages/mudata/_core/mudata.py:1598: FutureWarning: From 0.4 .update() will not pull obs/var columns from individual modalities by default anymore. Set mudata.set_options(pull_on_update=False) to adopt the new behaviour, which will become the default. Use new pull_obs/pull_var and push_obs/push_var methods for more flexibility.\n",
      "  self._update_attr(\"var\", axis=0, join_common=join_common)\n",
      "/home/cegrad/shriramp/miniconda3/envs/Shri/lib/python3.12/site-packages/mudata/_core/mudata.py:1461: FutureWarning: From 0.4 .update() will not pull obs/var columns from individual modalities by default anymore. Set mudata.set_options(pull_on_update=False) to adopt the new behaviour, which will become the default. Use new pull_obs/pull_var and push_obs/push_var methods for more flexibility.\n",
      "  self._update_attr(\"obs\", axis=1, join_common=join_common)\n"
     ]
    }
   ],
   "source": [
    "mdata = mu.MuData({'RNA': adata_rna, 'ATAC': adata_atac})"
   ]
  },
  {
   "cell_type": "code",
   "execution_count": 9,
   "id": "0eb4e8d4-1ccc-49ea-836e-8e45738893eb",
   "metadata": {},
   "outputs": [],
   "source": [
    "adata_2 = sc.read_h5ad('/home/cegrad/shriramp/SCREAM_wf/inputfiles/raw/rna_atac_multi_latent_adata_sae_appr_kmean_new_non_scaled_no_bg2_lsi299_clipped10_new1_scream_hyperbs90.h5ad')"
   ]
  },
  {
   "cell_type": "code",
   "execution_count": 15,
   "id": "4c94f4c9-ac56-480c-8474-39529e970a15",
   "metadata": {},
   "outputs": [
    {
     "data": {
      "text/html": [
       "<div>\n",
       "<style scoped>\n",
       "    .dataframe tbody tr th:only-of-type {\n",
       "        vertical-align: middle;\n",
       "    }\n",
       "\n",
       "    .dataframe tbody tr th {\n",
       "        vertical-align: top;\n",
       "    }\n",
       "\n",
       "    .dataframe thead th {\n",
       "        text-align: right;\n",
       "    }\n",
       "</style>\n",
       "<table border=\"1\" class=\"dataframe\">\n",
       "  <thead>\n",
       "    <tr style=\"text-align: right;\">\n",
       "      <th></th>\n",
       "      <th>cell_types_anno</th>\n",
       "    </tr>\n",
       "    <tr>\n",
       "      <th>0</th>\n",
       "      <th></th>\n",
       "    </tr>\n",
       "  </thead>\n",
       "  <tbody>\n",
       "    <tr>\n",
       "      <th>AAACAGCCAAGGAATC-1</th>\n",
       "      <td>CD4 Naive</td>\n",
       "    </tr>\n",
       "    <tr>\n",
       "      <th>AAACAGCCAATCCCTT-1</th>\n",
       "      <td>CD4 TCM</td>\n",
       "    </tr>\n",
       "    <tr>\n",
       "      <th>AAACAGCCAATGCGCT-1</th>\n",
       "      <td>CD4 Naive</td>\n",
       "    </tr>\n",
       "    <tr>\n",
       "      <th>AAACAGCCACCAACCG-1</th>\n",
       "      <td>CD8 Naive</td>\n",
       "    </tr>\n",
       "    <tr>\n",
       "      <th>AAACAGCCAGGATAAC-1</th>\n",
       "      <td>CD4 Naive</td>\n",
       "    </tr>\n",
       "    <tr>\n",
       "      <th>...</th>\n",
       "      <td>...</td>\n",
       "    </tr>\n",
       "    <tr>\n",
       "      <th>TTTGTTGGTGACATGC-1</th>\n",
       "      <td>CD8 Naive</td>\n",
       "    </tr>\n",
       "    <tr>\n",
       "      <th>TTTGTTGGTGTTAAAC-1</th>\n",
       "      <td>CD8 Naive</td>\n",
       "    </tr>\n",
       "    <tr>\n",
       "      <th>TTTGTTGGTTAGGATT-1</th>\n",
       "      <td>NK</td>\n",
       "    </tr>\n",
       "    <tr>\n",
       "      <th>TTTGTTGGTTGGTTAG-1</th>\n",
       "      <td>CD4 TCM</td>\n",
       "    </tr>\n",
       "    <tr>\n",
       "      <th>TTTGTTGGTTTGCAGA-1</th>\n",
       "      <td>CD8 TEM_1</td>\n",
       "    </tr>\n",
       "  </tbody>\n",
       "</table>\n",
       "<p>10412 rows × 1 columns</p>\n",
       "</div>"
      ],
      "text/plain": [
       "                   cell_types_anno\n",
       "0                                 \n",
       "AAACAGCCAAGGAATC-1       CD4 Naive\n",
       "AAACAGCCAATCCCTT-1         CD4 TCM\n",
       "AAACAGCCAATGCGCT-1       CD4 Naive\n",
       "AAACAGCCACCAACCG-1       CD8 Naive\n",
       "AAACAGCCAGGATAAC-1       CD4 Naive\n",
       "...                            ...\n",
       "TTTGTTGGTGACATGC-1       CD8 Naive\n",
       "TTTGTTGGTGTTAAAC-1       CD8 Naive\n",
       "TTTGTTGGTTAGGATT-1              NK\n",
       "TTTGTTGGTTGGTTAG-1         CD4 TCM\n",
       "TTTGTTGGTTTGCAGA-1       CD8 TEM_1\n",
       "\n",
       "[10412 rows x 1 columns]"
      ]
     },
     "execution_count": 15,
     "metadata": {},
     "output_type": "execute_result"
    }
   ],
   "source": []
  },
  {
   "cell_type": "code",
   "execution_count": 18,
   "id": "ac616712-b70c-405f-9642-348d296d9857",
   "metadata": {
    "scrolled": true
   },
   "outputs": [
    {
     "data": {
      "text/plain": [
       "Index(['RNA:orig.ident', 'RNA:nCount_RNA', 'RNA:nFeature_RNA',\n",
       "       'RNA:nCount_ATAC', 'RNA:nFeature_ATAC', 'RNA:nucleosome_signal',\n",
       "       'RNA:nucleosome_percentile', 'RNA:TSS.enrichment', 'RNA:TSS.percentile',\n",
       "       'RNA:percent.mt', 'RNA:nCount_SCT', 'RNA:nFeature_SCT',\n",
       "       'RNA:predicted.id', 'RNA:prediction.score.CD14.Mono',\n",
       "       'RNA:prediction.score.CD4.TCM', 'RNA:prediction.score.CD8.Naive',\n",
       "       'RNA:prediction.score.NK', 'RNA:prediction.score.CD8.TEM',\n",
       "       'RNA:prediction.score.CD16.Mono', 'RNA:prediction.score.B.intermediate',\n",
       "       'RNA:prediction.score.CD4.Naive', 'RNA:prediction.score.CD4.CTL',\n",
       "       'RNA:prediction.score.B.naive', 'RNA:prediction.score.MAIT',\n",
       "       'RNA:prediction.score.gdT', 'RNA:prediction.score.CD8.TCM',\n",
       "       'RNA:prediction.score.dnT', 'RNA:prediction.score.B.memory',\n",
       "       'RNA:prediction.score.Doublet', 'RNA:prediction.score.pDC',\n",
       "       'RNA:prediction.score.CD8.Proliferating', 'RNA:prediction.score.Treg',\n",
       "       'RNA:prediction.score.Plasmablast', 'RNA:prediction.score.CD4.TEM',\n",
       "       'RNA:prediction.score.cDC2', 'RNA:prediction.score.NK.Proliferating',\n",
       "       'RNA:prediction.score.ASDC', 'RNA:prediction.score.HSPC',\n",
       "       'RNA:prediction.score.Platelet', 'RNA:prediction.score.NK_CD56bright',\n",
       "       'RNA:prediction.score.CD4.Proliferating', 'RNA:prediction.score.Eryth',\n",
       "       'RNA:prediction.score.cDC1', 'RNA:prediction.score.ILC',\n",
       "       'RNA:prediction.score.max', 'RNA:SCT.weight', 'RNA:ATAC.weight',\n",
       "       'ATAC:orig.ident', 'ATAC:nCount_RNA', 'ATAC:nFeature_RNA',\n",
       "       'ATAC:nCount_ATAC', 'ATAC:nFeature_ATAC', 'ATAC:nucleosome_signal',\n",
       "       'ATAC:nucleosome_percentile', 'ATAC:TSS.enrichment',\n",
       "       'ATAC:TSS.percentile', 'ATAC:percent.mt', 'ATAC:nCount_SCT',\n",
       "       'ATAC:nFeature_SCT', 'ATAC:predicted.id',\n",
       "       'ATAC:prediction.score.CD14.Mono', 'ATAC:prediction.score.CD4.TCM',\n",
       "       'ATAC:prediction.score.CD8.Naive', 'ATAC:prediction.score.NK',\n",
       "       'ATAC:prediction.score.CD8.TEM', 'ATAC:prediction.score.CD16.Mono',\n",
       "       'ATAC:prediction.score.B.intermediate',\n",
       "       'ATAC:prediction.score.CD4.Naive', 'ATAC:prediction.score.CD4.CTL',\n",
       "       'ATAC:prediction.score.B.naive', 'ATAC:prediction.score.MAIT',\n",
       "       'ATAC:prediction.score.gdT', 'ATAC:prediction.score.CD8.TCM',\n",
       "       'ATAC:prediction.score.dnT', 'ATAC:prediction.score.B.memory',\n",
       "       'ATAC:prediction.score.Doublet', 'ATAC:prediction.score.pDC',\n",
       "       'ATAC:prediction.score.CD8.Proliferating', 'ATAC:prediction.score.Treg',\n",
       "       'ATAC:prediction.score.Plasmablast', 'ATAC:prediction.score.CD4.TEM',\n",
       "       'ATAC:prediction.score.cDC2', 'ATAC:prediction.score.NK.Proliferating',\n",
       "       'ATAC:prediction.score.ASDC', 'ATAC:prediction.score.HSPC',\n",
       "       'ATAC:prediction.score.Platelet', 'ATAC:prediction.score.NK_CD56bright',\n",
       "       'ATAC:prediction.score.CD4.Proliferating',\n",
       "       'ATAC:prediction.score.Eryth', 'ATAC:prediction.score.cDC1',\n",
       "       'ATAC:prediction.score.ILC', 'ATAC:prediction.score.max',\n",
       "       'ATAC:SCT.weight', 'ATAC:ATAC.weight'],\n",
       "      dtype='object')"
      ]
     },
     "execution_count": 18,
     "metadata": {},
     "output_type": "execute_result"
    }
   ],
   "source": [
    "mdata.obs.columns"
   ]
  },
  {
   "cell_type": "code",
   "execution_count": 22,
   "id": "2dca45eb-c602-454d-b590-443933b98259",
   "metadata": {},
   "outputs": [],
   "source": [
    "mdata.obs = mdata.obs.join(adata_2.obs.set_index('0')[['cell_types_anno']], how='left')"
   ]
  },
  {
   "cell_type": "code",
   "execution_count": 24,
   "id": "53290553-0551-48d3-8d75-3c823c775ee2",
   "metadata": {},
   "outputs": [
    {
     "name": "stderr",
     "output_type": "stream",
     "text": [
      "/home/cegrad/shriramp/miniconda3/envs/Shri/lib/python3.12/site-packages/mudata/_core/mudata.py:1598: FutureWarning: From 0.4 .update() will not pull obs/var columns from individual modalities by default anymore. Set mudata.set_options(pull_on_update=False) to adopt the new behaviour, which will become the default. Use new pull_obs/pull_var and push_obs/push_var methods for more flexibility.\n",
      "  self._update_attr(\"var\", axis=0, join_common=join_common)\n",
      "/home/cegrad/shriramp/miniconda3/envs/Shri/lib/python3.12/site-packages/mudata/_core/mudata.py:1461: FutureWarning: From 0.4 .update() will not pull obs/var columns from individual modalities by default anymore. Set mudata.set_options(pull_on_update=False) to adopt the new behaviour, which will become the default. Use new pull_obs/pull_var and push_obs/push_var methods for more flexibility.\n",
      "  self._update_attr(\"obs\", axis=1, join_common=join_common)\n"
     ]
    }
   ],
   "source": [
    "mdata.write_h5mu(os.path.join(processedDir, '10XPBMC_processed.h5mu'))"
   ]
  }
 ],
 "metadata": {
  "kernelspec": {
   "display_name": "Python (Shri)",
   "language": "python",
   "name": "shri"
  },
  "language_info": {
   "codemirror_mode": {
    "name": "ipython",
    "version": 3
   },
   "file_extension": ".py",
   "mimetype": "text/x-python",
   "name": "python",
   "nbconvert_exporter": "python",
   "pygments_lexer": "ipython3",
   "version": "3.12.0"
  }
 },
 "nbformat": 4,
 "nbformat_minor": 5
}
